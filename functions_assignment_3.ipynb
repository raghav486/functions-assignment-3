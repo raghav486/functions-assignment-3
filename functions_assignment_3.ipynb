{
  "nbformat": 4,
  "nbformat_minor": 0,
  "metadata": {
    "colab": {
      "provenance": []
    },
    "kernelspec": {
      "name": "python3",
      "display_name": "Python 3"
    },
    "language_info": {
      "name": "python"
    }
  },
  "cells": [
    {
      "cell_type": "markdown",
      "source": [
        "#**Functions**"
      ],
      "metadata": {
        "id": "IWnqKZxQdPzx"
      }
    },
    {
      "cell_type": "markdown",
      "source": [
        "##1- What is the difference between a function and a method in Python?\n",
        "The difference between a function and a method in Python lies in their context and usage:\n",
        "\n",
        "###1. Function:\n",
        "A function is a block of reusable code that is defined using the def keyword.\n",
        "It can exist independently and is not tied to any specific object or class.\n",
        "Functions can take arguments, perform operations, and return values.\n",
        "Example:\n",
        "\n",
        "\n"
      ],
      "metadata": {
        "id": "ywgd3LRSdP42"
      }
    },
    {
      "cell_type": "code",
      "source": [
        "def greet(name):\n",
        "    return f\"Hello, {name}!\"\n",
        "\n",
        "print(greet(\"Alice\"))\n"
      ],
      "metadata": {
        "colab": {
          "base_uri": "https://localhost:8080/"
        },
        "id": "QNRaLIJdeWIc",
        "outputId": "e60e6f7c-018d-4648-f3fa-6d7b541dd61f"
      },
      "execution_count": null,
      "outputs": [
        {
          "output_type": "stream",
          "name": "stdout",
          "text": [
            "Hello, Alice!\n"
          ]
        }
      ]
    },
    {
      "cell_type": "markdown",
      "source": [
        "###Method:\n",
        "A method is a function that is defined inside a class and is associated with an object or class.\n",
        "\n",
        "It operates on the instance (or class) and can access its attributes and other methods.\n",
        "\n",
        "Methods are called using the syntax object.method() or Class.method().\n",
        "\n",
        "There are three main types of methods in Python:\n",
        "\n",
        "Instance methods: Operate on the instance (self).\n",
        "Class methods: Operate on the class (cls).\n",
        "Static methods: Behave like regular functions but are part of the class namespace.\n",
        "Example:"
      ],
      "metadata": {
        "id": "JW8wHxthdP8x"
      }
    },
    {
      "cell_type": "code",
      "source": [
        "class Greeter:\n",
        "    def __init__(self, name):\n",
        "        self.name = name\n",
        "\n",
        "    def greet(self):\n",
        "        return f\"Hello, {self.name}!\"\n",
        "\n",
        "obj = Greeter(\"Alice\")\n",
        "print(obj.greet())\n"
      ],
      "metadata": {
        "colab": {
          "base_uri": "https://localhost:8080/"
        },
        "id": "4QZcb8Ofe402",
        "outputId": "b61b1e42-2130-4278-8323-239cf32c6f35"
      },
      "execution_count": null,
      "outputs": [
        {
          "output_type": "stream",
          "name": "stdout",
          "text": [
            "Hello, Alice!\n"
          ]
        }
      ]
    },
    {
      "cell_type": "markdown",
      "source": [
        "##2- Explain the concept of function arguments and parameters in Python.\n",
        " In Python, function arguments and parameters are concepts related to how information is passed into and processed by functions. Let’s explore them in detail:\n",
        "\n",
        "###1. Parameters\n",
        "Definition: Parameters are the variables listed inside the parentheses in the function definition.\n",
        "They act as placeholders that specify what kind of input the function can accept."
      ],
      "metadata": {
        "id": "56_skQ7pdQBk"
      }
    },
    {
      "cell_type": "code",
      "source": [
        "def greet(name):\n",
        "    print(f\"Hello, {name}!\")\n",
        "    #Here, name is the parameter.\n"
      ],
      "metadata": {
        "id": "Cg5L_DoIfheK"
      },
      "execution_count": null,
      "outputs": []
    },
    {
      "cell_type": "markdown",
      "source": [
        "###2. Arguments\n",
        "Definition: Arguments are the actual values or data you pass into a function when you call it.\n",
        "These values are assigned to the parameters defined in the function."
      ],
      "metadata": {
        "id": "23OE4U3wgWsT"
      }
    },
    {
      "cell_type": "code",
      "source": [
        "greet(\"Alice\")\n",
        "#Here, \"Alice\" is the argument."
      ],
      "metadata": {
        "colab": {
          "base_uri": "https://localhost:8080/"
        },
        "id": "1b6kkRzyfltb",
        "outputId": "f11c23d4-3b9c-4e54-f7e5-a02cf1b70985"
      },
      "execution_count": null,
      "outputs": [
        {
          "output_type": "stream",
          "name": "stdout",
          "text": [
            "Hello, Alice!\n"
          ]
        }
      ]
    },
    {
      "cell_type": "markdown",
      "source": [
        "##3- What are the different ways to define and call a function in Python?\n",
        "In Python, functions can be defined and called in various ways, providing flexibility for different use cases. Here are the different ways to define and call functions:\n",
        "\n",
        "###1. Standard Function Definition and Call\n",
        "Definition: Using the def keyword.\n",
        "Call: By providing arguments (if required)."
      ],
      "metadata": {
        "id": "QStIqZ7ggo9a"
      }
    },
    {
      "cell_type": "code",
      "source": [
        "def greet(name):\n",
        "    return f\"Hello, {name}!\"\n",
        "\n",
        "print(greet(\"Alice\"))\n"
      ],
      "metadata": {
        "colab": {
          "base_uri": "https://localhost:8080/"
        },
        "id": "Tz0sbF7lgkfJ",
        "outputId": "ab686dd3-ffb7-4a1b-e3fe-403847d093a3"
      },
      "execution_count": null,
      "outputs": [
        {
          "output_type": "stream",
          "name": "stdout",
          "text": [
            "Hello, Alice!\n"
          ]
        }
      ]
    },
    {
      "cell_type": "markdown",
      "source": [
        "###2. Function with Default Parameters\n",
        "Default values can be assigned to parameters in the definition.\n",
        "If no argument is provided, the default value is used."
      ],
      "metadata": {
        "id": "V1PkbRDRhaA5"
      }
    },
    {
      "cell_type": "code",
      "source": [
        "def greet(name=\"Guest\"):\n",
        "    return f\"Hello, {name}!\"\n",
        "\n",
        "print(greet())\n",
        "print(greet(\"Alice\"))\n"
      ],
      "metadata": {
        "colab": {
          "base_uri": "https://localhost:8080/"
        },
        "id": "WaH7Tw7dhRs4",
        "outputId": "5c727319-a76a-4401-847b-b12ac4fa1883"
      },
      "execution_count": null,
      "outputs": [
        {
          "output_type": "stream",
          "name": "stdout",
          "text": [
            "Hello, Guest!\n",
            "Hello, Alice!\n"
          ]
        }
      ]
    },
    {
      "cell_type": "markdown",
      "source": [
        "###3. Function with Variable-Length Arguments\n",
        "*args: Accepts multiple positional arguments as a tuple.\n",
        "\n",
        "**kwargs: Accepts multiple keyword arguments as a dictionary."
      ],
      "metadata": {
        "id": "eaZPVo8BiXGW"
      }
    },
    {
      "cell_type": "code",
      "source": [
        "def sum_all(*args):\n",
        "    return sum(args)\n",
        "\n",
        "print(sum_all(1, 2, 3, 4))\n",
        "\n",
        "def print_info(**kwargs):\n",
        "    for key, value in kwargs.items():\n",
        "        print(f\"{key}: {value}\")\n",
        "\n",
        "print_info(name=\"Alice\", age=25, city=\"NY\")\n",
        "\n"
      ],
      "metadata": {
        "colab": {
          "base_uri": "https://localhost:8080/"
        },
        "id": "iJnF-RGWiWJ1",
        "outputId": "6b3b687d-c27f-4ca0-ac0a-cba21998479f"
      },
      "execution_count": null,
      "outputs": [
        {
          "output_type": "stream",
          "name": "stdout",
          "text": [
            "10\n",
            "name: Alice\n",
            "age: 25\n",
            "city: NY\n"
          ]
        }
      ]
    },
    {
      "cell_type": "markdown",
      "source": [
        "###4. Lambda Functions (Anonymous Functions)\n",
        "Defined using the lambda keyword.\n",
        "Typically used for short, simple operations."
      ],
      "metadata": {
        "id": "m-5vUx8vi_Nc"
      }
    },
    {
      "cell_type": "code",
      "source": [
        "square = lambda x: x ** 2\n",
        "print(square(5))\n",
        "\n",
        "add = lambda a, b: a + b\n",
        "print(add(3, 4))\n"
      ],
      "metadata": {
        "colab": {
          "base_uri": "https://localhost:8080/"
        },
        "id": "iuedXmqeisNi",
        "outputId": "679616a4-0bdd-4679-8b48-8fad4ee99d5d"
      },
      "execution_count": null,
      "outputs": [
        {
          "output_type": "stream",
          "name": "stdout",
          "text": [
            "25\n",
            "7\n"
          ]
        }
      ]
    },
    {
      "cell_type": "markdown",
      "source": [
        "###5. Nested Functions\n",
        "Functions defined inside other functions. Useful for creating helper functions."
      ],
      "metadata": {
        "id": "g47Jgiz9jmYR"
      }
    },
    {
      "cell_type": "code",
      "source": [
        "def outer_function(name):\n",
        "    def inner_function():\n",
        "        return f\"Hello, {name}!\"\n",
        "    return inner_function()\n",
        "\n",
        "print(outer_function(\"Alice\"))\n"
      ],
      "metadata": {
        "colab": {
          "base_uri": "https://localhost:8080/"
        },
        "id": "iUgNRQHTjcUC",
        "outputId": "59fb92bb-049a-4c41-f983-6b8862099345"
      },
      "execution_count": null,
      "outputs": [
        {
          "output_type": "stream",
          "name": "stdout",
          "text": [
            "Hello, Alice!\n"
          ]
        }
      ]
    },
    {
      "cell_type": "markdown",
      "source": [
        "##4- What is the purpose of the `return` statement in a Python function?\n",
        "The return statement in a Python function is used to send the result of the function's computation back to the caller. It terminates the function execution and specifies a value (or multiple values) to be returned as the output of the function.\n",
        "###Purpose of the return Statement\n",
        "1. Return a Value to the Caller\n",
        "\n",
        "It allows the function to produce a result that can be used later."
      ],
      "metadata": {
        "id": "xPjsf_sKj8ax"
      }
    },
    {
      "cell_type": "code",
      "source": [
        "def add(a, b):\n",
        "    return a + b\n",
        "\n",
        "result = add(3, 4)\n",
        "print(result)\n"
      ],
      "metadata": {
        "colab": {
          "base_uri": "https://localhost:8080/"
        },
        "id": "gmIUd8iwj4hi",
        "outputId": "fc7f7c3a-9a4b-411a-c078-8e0faec5686b"
      },
      "execution_count": null,
      "outputs": [
        {
          "output_type": "stream",
          "name": "stdout",
          "text": [
            "7\n"
          ]
        }
      ]
    },
    {
      "cell_type": "markdown",
      "source": [
        "2. Terminate Function Execution\n",
        "\n",
        "The return statement stops further execution of the function and exits it immediately."
      ],
      "metadata": {
        "id": "qv7KqX8Uk5PR"
      }
    },
    {
      "cell_type": "code",
      "source": [
        "def check_value(x):\n",
        "    if x > 10:\n",
        "        return \"Greater than 10\"\n",
        "    return \"10 or less\"\n",
        "\n",
        "print(check_value(15))\n"
      ],
      "metadata": {
        "colab": {
          "base_uri": "https://localhost:8080/"
        },
        "id": "7dBYHk9akzUu",
        "outputId": "1769b7b2-4763-4a8a-d3d1-5100f7955fa0"
      },
      "execution_count": null,
      "outputs": [
        {
          "output_type": "stream",
          "name": "stdout",
          "text": [
            "Greater than 10\n"
          ]
        }
      ]
    },
    {
      "cell_type": "markdown",
      "source": [
        "3. Return Multiple Values\n",
        "\n",
        "Python functions can return multiple values as a tuple."
      ],
      "metadata": {
        "id": "D9-GHkQilBLO"
      }
    },
    {
      "cell_type": "code",
      "source": [
        "def divide_and_remainder(a, b):\n",
        "    return a // b, a % b\n",
        "\n",
        "quotient, remainder = divide_and_remainder(10, 3)\n",
        "print(quotient, remainder)\n"
      ],
      "metadata": {
        "colab": {
          "base_uri": "https://localhost:8080/"
        },
        "id": "lC20xzJglAKL",
        "outputId": "b5184174-eeaf-4335-9db6-99d1d5dec5c4"
      },
      "execution_count": null,
      "outputs": [
        {
          "output_type": "stream",
          "name": "stdout",
          "text": [
            "3 1\n"
          ]
        }
      ]
    },
    {
      "cell_type": "markdown",
      "source": [
        "4. Return No Value (or None)\n",
        "\n",
        "If the return statement is omitted or used without a value, the function returns None by default."
      ],
      "metadata": {
        "id": "vvCpjxknlPHf"
      }
    },
    {
      "cell_type": "code",
      "source": [
        "def say_hello(name):\n",
        "    print(f\"Hello, {name}!\")\n",
        "    return\n",
        "\n",
        "result = say_hello(\"Alice\")\n",
        "print(result)\n"
      ],
      "metadata": {
        "colab": {
          "base_uri": "https://localhost:8080/"
        },
        "id": "NfteqoyelJXL",
        "outputId": "249f5b69-64b1-43bd-cef3-348a1b708602"
      },
      "execution_count": null,
      "outputs": [
        {
          "output_type": "stream",
          "name": "stdout",
          "text": [
            "Hello, Alice!\n",
            "None\n"
          ]
        }
      ]
    },
    {
      "cell_type": "markdown",
      "source": [
        "5. Facilitate Conditional Logic\n",
        "\n",
        "return can be used to implement conditional checks and return different outputs based on logic."
      ],
      "metadata": {
        "id": "GcKVrR8DldoN"
      }
    },
    {
      "cell_type": "code",
      "source": [
        "def is_even(number):\n",
        "    if number % 2 == 0:\n",
        "        return True\n",
        "    return False\n",
        "\n",
        "print(is_even(4))\n",
        "print(is_even(5))\n"
      ],
      "metadata": {
        "colab": {
          "base_uri": "https://localhost:8080/"
        },
        "id": "39F7lBmOlXZr",
        "outputId": "c120b7e8-0171-4345-c02e-cc7bef90e0fa"
      },
      "execution_count": null,
      "outputs": [
        {
          "output_type": "stream",
          "name": "stdout",
          "text": [
            "True\n",
            "False\n"
          ]
        }
      ]
    },
    {
      "cell_type": "markdown",
      "source": [
        "##5- What are iterators in Python and how do they differ from iterables?\n",
        "In Python, iterators and iterables are fundamental concepts used to handle sequences of data in a memory-efficient and flexible way. Here's a detailed explanation of both and their differences:\n",
        "\n",
        "###**Iterables**\n",
        "1. Definition:\n",
        "\n",
        "An iterable is any object in Python that can return its elements one at a time, allowing you to loop over it (e.g., in a for loop).\n",
        "\n",
        "Common examples: Lists, tuples, strings, dictionaries, sets, and custom objects implementing the __iter__ method.\n",
        "\n",
        "2. Key Characteristics:\n",
        "\n",
        "An iterable has an __iter__() method that returns an iterator.\n",
        "\n",
        "It does not maintain any internal state about iteration.\n",
        "\n",
        "You can create multiple iterators from a single iterable."
      ],
      "metadata": {
        "id": "aIipjhaNln4t"
      }
    },
    {
      "cell_type": "code",
      "source": [
        "my_list = [1, 2, 3]\n",
        "for item in my_list:\n",
        "    print(item)\n"
      ],
      "metadata": {
        "colab": {
          "base_uri": "https://localhost:8080/"
        },
        "id": "h2f_udU0lkqa",
        "outputId": "7178658e-8bd3-44a1-9b04-722959dfd3ca"
      },
      "execution_count": null,
      "outputs": [
        {
          "output_type": "stream",
          "name": "stdout",
          "text": [
            "1\n",
            "2\n",
            "3\n"
          ]
        }
      ]
    },
    {
      "cell_type": "markdown",
      "source": [
        "###**Iterators**\n",
        "1. Definition:\n",
        "\n",
        "An iterator is an object that represents a stream of data.\n",
        "\n",
        "It remembers its position during iteration and provides a way to access elements one at a time.\n",
        "\n",
        "###**Key Characteristics:**\n",
        "\n",
        "An iterator must implement the __iter__() and __next__() methods.\n",
        "\n",
        "__iter__(): Returns the iterator object itself.\n",
        "\n",
        "__next__(): Returns the next element in the sequence or raises StopIteration when there are no more elements.\n",
        "\n",
        "Iterators are consumed once. After iterating through it, it cannot be reset or reused unless reinitialized."
      ],
      "metadata": {
        "id": "En4ySYW5mdJn"
      }
    },
    {
      "cell_type": "code",
      "source": [
        "my_list = [1, 2, 3]\n",
        "iterator = iter(my_list)\n",
        "\n",
        "print(next(iterator))\n",
        "print(next(iterator))\n",
        "print(next(iterator))\n",
        "# print(next(iterator))\n"
      ],
      "metadata": {
        "colab": {
          "base_uri": "https://localhost:8080/"
        },
        "id": "7H_Z7265mWQb",
        "outputId": "929e8e47-250e-4b47-d9ac-c239300d0435"
      },
      "execution_count": null,
      "outputs": [
        {
          "output_type": "stream",
          "name": "stdout",
          "text": [
            "1\n",
            "2\n",
            "3\n"
          ]
        }
      ]
    },
    {
      "cell_type": "markdown",
      "source": [
        "##6- Explain the concept of generators in Python and how they are defined.\n",
        " Generators in Python are a special type of iterator that allows you to generate values lazily, one at a time, without having to store the entire sequence in memory. They are useful for working with large datasets or streams of data efficiently.\n",
        "###Key Features of Generators\n",
        "1. Lazy Evaluation:\n",
        "\n",
        "Generators produce items one at a time as they are needed, rather than computing all items at once.\n",
        "This helps save memory, especially for large datasets.\n",
        "\n",
        "2. Iterator Compliance:\n",
        "\n",
        "Generators are a type of iterator, meaning they implement the __iter__() and __next__() methods.\n",
        "\n",
        "3. State Preservation:\n",
        "\n",
        "Generators automatically save their state between each call, so you don't need to manage state manually.\n",
        "\n",
        "4. Termination:\n",
        "\n",
        "Generators raise a StopIteration exception when there are no more values to generate\n",
        "\n",
        "###How to Define Generators\n",
        "1. Using yield\n",
        "Generators are defined using a function that contains one or more yield statements.\n",
        "The yield statement pauses the function and saves its state, allowing it to resume from where it left off."
      ],
      "metadata": {
        "id": "mM6tWON_nJar"
      }
    },
    {
      "cell_type": "code",
      "source": [
        "def countdown(n):\n",
        "    while n > 0:\n",
        "        yield n\n",
        "        n -= 1\n",
        "\n",
        "for num in countdown(5):\n",
        "    print(num)\n",
        "\n"
      ],
      "metadata": {
        "colab": {
          "base_uri": "https://localhost:8080/"
        },
        "id": "fsAjvgFgnDWH",
        "outputId": "e55370cf-09c5-4520-c1ab-ef49ca069aeb"
      },
      "execution_count": null,
      "outputs": [
        {
          "output_type": "stream",
          "name": "stdout",
          "text": [
            "5\n",
            "4\n",
            "3\n",
            "2\n",
            "1\n"
          ]
        }
      ]
    },
    {
      "cell_type": "markdown",
      "source": [
        "2. Using Generator Expressions\n",
        "\n",
        "Generator expressions are similar to list comprehensions but use parentheses () instead of square brackets [].\n",
        "\n",
        "They create a generator object directly."
      ],
      "metadata": {
        "id": "Ts2wANGRqBZC"
      }
    },
    {
      "cell_type": "code",
      "source": [
        "# Generator expression\n",
        "squares = (x ** 2 for x in range(5))\n",
        "\n",
        "for square in squares:\n",
        "    print(square)\n",
        "\n"
      ],
      "metadata": {
        "colab": {
          "base_uri": "https://localhost:8080/"
        },
        "id": "7o8miQUep9xQ",
        "outputId": "4495e74f-78d2-4f1a-ea26-b735dffd0a26"
      },
      "execution_count": null,
      "outputs": [
        {
          "output_type": "stream",
          "name": "stdout",
          "text": [
            "0\n",
            "1\n",
            "4\n",
            "9\n",
            "16\n"
          ]
        }
      ]
    },
    {
      "cell_type": "markdown",
      "source": [
        "##7- What are the advantages of using generators over regular functions?\n",
        "Using generators in Python provides several advantages over regular functions, especially in terms of memory efficiency, simplicity, and handling of iterative tasks. Here's a detailed explanation of the benefits of generators:\n",
        "###1. Memory Efficiency\n",
        "Advantage: Generators do not generate all values at once; they produce items one at a time using lazy evaluation.\n",
        "\n",
        "Benefit: This reduces memory usage, making them ideal for working with large datasets or infinite sequences."
      ],
      "metadata": {
        "id": "wWNhsFQ2qi2o"
      }
    },
    {
      "cell_type": "code",
      "source": [
        "def large_list():  # Regular function\n",
        "    return [i for i in range(10**6)]  # Creates a large list in memory\n",
        "\n",
        "def large_generator():  # Generator\n",
        "    for i in range(10**6):\n",
        "        yield i  # Generates values one by one\n",
        "\n",
        "# Memory comparison:\n",
        "gen = large_generator()\n",
        "print(next(gen))  # Efficiently produces the first value\n"
      ],
      "metadata": {
        "colab": {
          "base_uri": "https://localhost:8080/"
        },
        "id": "WSfCTz4WqgtQ",
        "outputId": "4c7db320-0536-4226-c24f-44324f6af634"
      },
      "execution_count": null,
      "outputs": [
        {
          "output_type": "stream",
          "name": "stdout",
          "text": [
            "0\n"
          ]
        }
      ]
    },
    {
      "cell_type": "markdown",
      "source": [
        "###2. Simplified Code for Iterators\n",
        "\n",
        "Advantage: Generators allow you to write iterators without manually implementing __iter__ and __next__.\n",
        "\n",
        "Benefit: Cleaner and more concise code compared to creating a custom iterator class."
      ],
      "metadata": {
        "id": "NHwq2adQs4uG"
      }
    },
    {
      "cell_type": "code",
      "source": [
        "# Generator version\n",
        "def countdown(n):\n",
        "    while n > 0:\n",
        "        yield n\n",
        "        n -= 1\n",
        "\n",
        "# Equivalent custom iterator\n",
        "class Countdown:\n",
        "    def __init__(self, n):\n",
        "        self.n = n\n",
        "\n",
        "    def __iter__(self):\n",
        "        return self\n",
        "\n",
        "    def __next__(self):\n",
        "        if self.n <= 0:\n",
        "            raise StopIteration\n",
        "        self.n -= 1\n",
        "        return self.n + 1\n"
      ],
      "metadata": {
        "id": "e7gzZhZDsK97"
      },
      "execution_count": null,
      "outputs": []
    },
    {
      "cell_type": "markdown",
      "source": [
        "###3. Lazy Evaluation\n",
        "Advantage: Values are generated on demand, instead of pre-computing and storing them.\n",
        "\n",
        "Benefit: Reduces computation time when only a subset of values is required."
      ],
      "metadata": {
        "id": "z2fEIukythJP"
      }
    },
    {
      "cell_type": "code",
      "source": [
        "def fibonacci():\n",
        "    a, b = 0, 1\n",
        "    while True:\n",
        "        yield a\n",
        "        a, b = b, a + b\n",
        "\n",
        "fib = fibonacci()\n",
        "for _ in range(5):\n",
        "    print(next(fib))\n",
        "\n"
      ],
      "metadata": {
        "colab": {
          "base_uri": "https://localhost:8080/"
        },
        "id": "LBA70c86tFTn",
        "outputId": "4ac1997b-d0ab-4c2a-94ff-b63909e18063"
      },
      "execution_count": null,
      "outputs": [
        {
          "output_type": "stream",
          "name": "stdout",
          "text": [
            "0\n",
            "1\n",
            "1\n",
            "2\n",
            "3\n"
          ]
        }
      ]
    },
    {
      "cell_type": "markdown",
      "source": [
        "##8- What is a lambda function in Python and when is it typically used?\n",
        "A lambda function in Python is a small, anonymous function defined using the lambda keyword. It can take any number of arguments but can only contain a single expression, which is evaluated and returned. Lambda functions are often used for short, simple tasks where defining a full function would be unnecessarily verbose.\n",
        "\n",
        "###Syntax of a Lambda Function\n",
        "lambda: The keyword used to define the function.\n",
        "\n",
        "arguments: The parameters that the function will accept (can be multiple or none).\n",
        "\n",
        "expression: The single expression to be evaluated and returned.\n",
        "\n",
        "###Example of a Lambda Function\n"
      ],
      "metadata": {
        "id": "1gsQiY9yuOZY"
      }
    },
    {
      "cell_type": "code",
      "source": [
        "# A lambda function that adds two numbers\n",
        "add = lambda x, y: x + y\n",
        "print(add(3, 5))\n",
        "#In this case, the lambda function takes two arguments (x and y) and returns their sum\n"
      ],
      "metadata": {
        "colab": {
          "base_uri": "https://localhost:8080/"
        },
        "id": "bC4t3Ef3t43E",
        "outputId": "34b5d57e-b953-4fbd-8513-8742ca1dd4ed"
      },
      "execution_count": null,
      "outputs": [
        {
          "output_type": "stream",
          "name": "stdout",
          "text": [
            "8\n"
          ]
        }
      ]
    },
    {
      "cell_type": "markdown",
      "source": [
        "###Common Use Cases for Lambda Functions\n",
        "Short Functions for Single Use:\n",
        "\n",
        "Lambda functions are typically used for small tasks that are only required once and don't need a named function.\n",
        "\n",
        "Example: Sorting a list of tuples based on the second element.\n"
      ],
      "metadata": {
        "id": "kRyrKZjFwA6r"
      }
    },
    {
      "cell_type": "code",
      "source": [
        "pairs = [(1, 2), (3, 1), (5, 4)]\n",
        "pairs.sort(key=lambda x: x[1])\n",
        "print(pairs)\n"
      ],
      "metadata": {
        "colab": {
          "base_uri": "https://localhost:8080/"
        },
        "id": "nbu5OAV6vx5C",
        "outputId": "e5b8483a-8d41-4681-b05d-4b63d6399812"
      },
      "execution_count": null,
      "outputs": [
        {
          "output_type": "stream",
          "name": "stdout",
          "text": [
            "[(3, 1), (1, 2), (5, 4)]\n"
          ]
        }
      ]
    },
    {
      "cell_type": "markdown",
      "source": [
        "###Higher-Order Functions:\n",
        "\n",
        "Lambda functions are often used as arguments to higher-order functions (functions that take other functions as arguments).\n",
        "\n",
        "Example: Using map(), filter(), or reduce()"
      ],
      "metadata": {
        "id": "-g-8U4VwwYna"
      }
    },
    {
      "cell_type": "code",
      "source": [
        "# Using lambda with map() to square each element in a list\n",
        "numbers = [1, 2, 3, 4]\n",
        "squares = map(lambda x: x ** 2, numbers)\n",
        "print(list(squares))  # Output: [1, 4, 9, 16]\n"
      ],
      "metadata": {
        "colab": {
          "base_uri": "https://localhost:8080/"
        },
        "id": "SOiNtr0awQq-",
        "outputId": "1054958c-599a-43bf-bfe7-a50c230aefc7"
      },
      "execution_count": null,
      "outputs": [
        {
          "output_type": "stream",
          "name": "stdout",
          "text": [
            "[1, 4, 9, 16]\n"
          ]
        }
      ]
    },
    {
      "cell_type": "markdown",
      "source": [
        "###Creating Simple Callbacks:\n",
        "\n",
        "Lambda functions can be used to define simple callback functions, especially in event-driven programming or GUI libraries.\n",
        "\n",
        "Example: Passing a lambda function as a callback in event handling."
      ],
      "metadata": {
        "id": "HhTXVvlkwrM6"
      }
    },
    {
      "cell_type": "markdown",
      "source": [
        "##9- Explain the purpose and usage of the `map()` function in Python."
      ],
      "metadata": {
        "id": "RxRcno1GxG-a"
      }
    },
    {
      "cell_type": "markdown",
      "source": [
        "The map() function in Python is a built-in utility used to apply a given function to each item of an iterable (like a list, tuple, or string) and return a map object (an iterator) with the results.\n",
        "\n",
        "###Purpose\n",
        "The primary purpose of map() is to simplify the process of applying a function to each element in an iterable, making the code concise and readable. It is particularly useful for performing transformations or computations on large datasets without requiring explicit loops.\n",
        "###syntax\n",
        "map(function, iterable, ...)\n",
        "* function: The function to apply to each element of the iterable. This can be a built-in function, a user-defined function, or a lambda function.\n",
        "\n",
        "* iterable: The iterable whose elements the function is applied to. Multiple iterables can be provided if the function supports more than one argument.\n",
        "\n",
        "###Returns\n",
        "The map() function returns an iterator. To obtain the results, you can convert it to a list, tuple, or another data structure, or iterate over it directly.\n",
        "\n",
        "##Examples\n",
        "Single Iterable\n",
        "\n",
        "\n"
      ],
      "metadata": {
        "id": "BzPAI7GAndN6"
      }
    },
    {
      "cell_type": "code",
      "source": [
        "# Convert a list of numbers to their squares\n",
        "nums = [1, 2, 3, 4]\n",
        "squared = map(lambda x: x**2, nums)\n",
        "print(list(squared))  # Output: [1, 4, 9, 16]\n"
      ],
      "metadata": {
        "id": "ptZPXwHdww4N",
        "colab": {
          "base_uri": "https://localhost:8080/"
        },
        "outputId": "3ba2dbbe-32fc-49ff-b10a-0768dbdff71f"
      },
      "execution_count": 1,
      "outputs": [
        {
          "output_type": "stream",
          "name": "stdout",
          "text": [
            "[1, 4, 9, 16]\n"
          ]
        }
      ]
    },
    {
      "cell_type": "markdown",
      "source": [
        "Multiple Iterables"
      ],
      "metadata": {
        "id": "8pxQpypWaEDp"
      }
    },
    {
      "cell_type": "code",
      "source": [
        "# Add corresponding elements from two lists\n",
        "nums1 = [1, 2, 3]\n",
        "nums2 = [4, 5, 6]\n",
        "summed = map(lambda x, y: x + y, nums1, nums2)\n",
        "print(list(summed))  # Output: [5, 7, 9]\n"
      ],
      "metadata": {
        "colab": {
          "base_uri": "https://localhost:8080/"
        },
        "id": "wLhwJHjlZnn1",
        "outputId": "84b558e4-5dc3-45ca-c1c5-9b324ac9aac2"
      },
      "execution_count": 2,
      "outputs": [
        {
          "output_type": "stream",
          "name": "stdout",
          "text": [
            "[5, 7, 9]\n"
          ]
        }
      ]
    },
    {
      "cell_type": "markdown",
      "source": [
        "##10- What is the difference between `map()`, `reduce()`, and `filter()` functions in Python?\n",
        "The map(), reduce(), and filter() functions in Python are part of the functional programming paradigm and are used for processing iterables. While they share some similarities, they serve distinct purposes:\n",
        "1. map()\n",
        "\n",
        "Purpose: Applies a given function to each element of an iterable and returns an iterator with the transformed values.\n",
        "\n",
        "Input: A function and one or more iterables.\n",
        "\n",
        "Output: An iterator with the results of the function applied to each element."
      ],
      "metadata": {
        "id": "bZRkkPiBaS_I"
      }
    },
    {
      "cell_type": "code",
      "source": [
        "nums = [1, 2, 3, 4]\n",
        "squared = map(lambda x: x**2, nums)\n",
        "print(list(squared))\n"
      ],
      "metadata": {
        "colab": {
          "base_uri": "https://localhost:8080/"
        },
        "id": "BRpgWCScaI4_",
        "outputId": "698d7234-2b71-427f-fc74-4ba4476e930a"
      },
      "execution_count": 3,
      "outputs": [
        {
          "output_type": "stream",
          "name": "stdout",
          "text": [
            "[1, 4, 9, 16]\n"
          ]
        }
      ]
    },
    {
      "cell_type": "markdown",
      "source": [
        "2. filter()\n",
        "\n",
        "Purpose: Filters elements of an iterable based on a condition specified by a function. It only includes elements for which the function returns True.\n",
        "\n",
        "Input: A function (must return a boolean) and an iterable.\n",
        "\n",
        "Output: An iterator with the filtered elements"
      ],
      "metadata": {
        "id": "A1I0xvIXavaA"
      }
    },
    {
      "cell_type": "code",
      "source": [
        "nums = [1, 2, 3, 4, 5, 6]\n",
        "even_nums = filter(lambda x: x % 2 == 0, nums)\n",
        "print(list(even_nums))\n"
      ],
      "metadata": {
        "colab": {
          "base_uri": "https://localhost:8080/"
        },
        "id": "yg2fw1Foatwj",
        "outputId": "241c0ebd-8d49-47cd-b387-50999c9cbb0a"
      },
      "execution_count": 4,
      "outputs": [
        {
          "output_type": "stream",
          "name": "stdout",
          "text": [
            "[2, 4, 6]\n"
          ]
        }
      ]
    },
    {
      "cell_type": "markdown",
      "source": [
        "3. reduce()\n",
        "\n",
        "Purpose: Reduces an iterable to a single cumulative value by applying a function that takes two arguments, combining elements sequentially.\n",
        "\n",
        "Input: A function and an iterable.\n",
        "\n",
        "Output: A single value.\n",
        "\n",
        "Location: It is part of the functools module, so you need to import it."
      ],
      "metadata": {
        "id": "fJOIbCExbERs"
      }
    },
    {
      "cell_type": "code",
      "source": [
        "from functools import reduce\n",
        "\n",
        "nums = [1, 2, 3, 4]\n",
        "product = reduce(lambda x, y: x * y, nums)\n",
        "print(product)\n"
      ],
      "metadata": {
        "colab": {
          "base_uri": "https://localhost:8080/"
        },
        "id": "tnYv-k0BbBSu",
        "outputId": "2880e705-639a-406d-d5a1-018b8ef643ff"
      },
      "execution_count": 5,
      "outputs": [
        {
          "output_type": "stream",
          "name": "stdout",
          "text": [
            "24\n"
          ]
        }
      ]
    },
    {
      "cell_type": "markdown",
      "source": [
        "##11- Using pen & Paper write the internal mechanism for sum operation using  reduce function on this given\n",
        "list:[47,11,42,13];"
      ],
      "metadata": {
        "id": "4hlKzna2bam3"
      }
    },
    {
      "cell_type": "markdown",
      "source": [
        "#**Practical Questions:**"
      ],
      "metadata": {
        "id": "IwpV_SYibujP"
      }
    },
    {
      "cell_type": "markdown",
      "source": [
        "##1. Write a Python function that takes a list of numbers as input and returns the sum of all even numbers in the list."
      ],
      "metadata": {
        "id": "jA5ov20_b5Sh"
      }
    },
    {
      "cell_type": "code",
      "source": [
        "def sum_of_evens(numbers):\n",
        "    \"\"\"\n",
        "    Returns the sum of all even numbers in the input list.\n",
        "\n",
        "    :param numbers: List of integers\n",
        "    :return: Sum of even integers\n",
        "    \"\"\"\n",
        "    # Use a list comprehension to filter even numbers and calculate their sum\n",
        "    return sum(num for num in numbers if num % 2 == 0)\n",
        "\n",
        "# Example usage\n",
        "numbers = [1, 2, 3, 4, 5, 6]\n",
        "result = sum_of_evens(numbers)\n",
        "print(f\"The sum of even numbers is: {result}\")\n"
      ],
      "metadata": {
        "colab": {
          "base_uri": "https://localhost:8080/"
        },
        "id": "ythN9YhPbLNO",
        "outputId": "9327acfe-0199-4be5-aba4-94cbd06315e0"
      },
      "execution_count": 6,
      "outputs": [
        {
          "output_type": "stream",
          "name": "stdout",
          "text": [
            "The sum of even numbers is: 12\n"
          ]
        }
      ]
    },
    {
      "cell_type": "markdown",
      "source": [
        "##2. Create a Python function that accepts a string and returns the reverse of that string."
      ],
      "metadata": {
        "id": "_nIFJlB9cdlg"
      }
    },
    {
      "cell_type": "code",
      "source": [
        "def reverse_string(s):\n",
        "    \"\"\"\n",
        "    Returns the reverse of the input string.\n",
        "\n",
        "    :param s: The input string\n",
        "    :return: The reversed string\n",
        "    \"\"\"\n",
        "    return s[::-1]\n",
        "\n",
        "# Example usage\n",
        "input_string = \"Hello, World!\"\n",
        "result = reverse_string(input_string)\n",
        "print(f\"The reversed string is: {result}\")\n"
      ],
      "metadata": {
        "colab": {
          "base_uri": "https://localhost:8080/"
        },
        "id": "Zge5Hj6LcM6B",
        "outputId": "597361a7-6bca-49bd-d2ca-0471c195c6a8"
      },
      "execution_count": 7,
      "outputs": [
        {
          "output_type": "stream",
          "name": "stdout",
          "text": [
            "The reversed string is: !dlroW ,olleH\n"
          ]
        }
      ]
    },
    {
      "cell_type": "markdown",
      "source": [
        "##3. Implement a Python function that takes a list of integers and returns a new list containing the squares of each number."
      ],
      "metadata": {
        "id": "vvUBifeXc1B4"
      }
    },
    {
      "cell_type": "code",
      "source": [
        "def square_numbers(numbers):\n",
        "    \"\"\"\n",
        "    Returns a list containing the squares of each number in the input list.\n",
        "\n",
        "    :param numbers: List of integers\n",
        "    :return: List of squares of the integers\n",
        "    \"\"\"\n",
        "    return [num**2 for num in numbers]\n",
        "\n",
        "# Example usage\n",
        "numbers = [1, 2, 3, 4, 5]\n",
        "result = square_numbers(numbers)\n",
        "print(f\"The list of squared numbers is: {result}\")\n"
      ],
      "metadata": {
        "colab": {
          "base_uri": "https://localhost:8080/"
        },
        "id": "jpS5DMDwcoRS",
        "outputId": "63d8757d-273f-4cc3-b1eb-7a1b9cc6b5ee"
      },
      "execution_count": 8,
      "outputs": [
        {
          "output_type": "stream",
          "name": "stdout",
          "text": [
            "The list of squared numbers is: [1, 4, 9, 16, 25]\n"
          ]
        }
      ]
    },
    {
      "cell_type": "markdown",
      "source": [
        "##4. Write a Python function that checks if a given number is prime or not from 1 to 200."
      ],
      "metadata": {
        "id": "Bzj_O8vudAuR"
      }
    },
    {
      "cell_type": "code",
      "source": [
        "def is_prime(num):\n",
        "    \"\"\"\n",
        "    Checks if the given number is prime.\n",
        "\n",
        "    :param num: Integer to check\n",
        "    :return: True if prime, False otherwise\n",
        "    \"\"\"\n",
        "    if num <= 1:  # Numbers <= 1 are not prime\n",
        "        return False\n",
        "    for i in range(2, int(num**0.5) + 1):  # Check divisors up to √num\n",
        "        if num % i == 0:\n",
        "            return False\n",
        "    return True\n",
        "\n",
        "# Example usage: Check prime status for numbers from 1 to 200\n",
        "for number in range(1, 201):\n",
        "    if is_prime(number):\n",
        "        print(f\"{number} is a prime number.\")\n"
      ],
      "metadata": {
        "colab": {
          "base_uri": "https://localhost:8080/"
        },
        "id": "EAykhKQLc_2e",
        "outputId": "2ec58526-bd10-441d-f09c-4ca9a281ef1b"
      },
      "execution_count": 9,
      "outputs": [
        {
          "output_type": "stream",
          "name": "stdout",
          "text": [
            "2 is a prime number.\n",
            "3 is a prime number.\n",
            "5 is a prime number.\n",
            "7 is a prime number.\n",
            "11 is a prime number.\n",
            "13 is a prime number.\n",
            "17 is a prime number.\n",
            "19 is a prime number.\n",
            "23 is a prime number.\n",
            "29 is a prime number.\n",
            "31 is a prime number.\n",
            "37 is a prime number.\n",
            "41 is a prime number.\n",
            "43 is a prime number.\n",
            "47 is a prime number.\n",
            "53 is a prime number.\n",
            "59 is a prime number.\n",
            "61 is a prime number.\n",
            "67 is a prime number.\n",
            "71 is a prime number.\n",
            "73 is a prime number.\n",
            "79 is a prime number.\n",
            "83 is a prime number.\n",
            "89 is a prime number.\n",
            "97 is a prime number.\n",
            "101 is a prime number.\n",
            "103 is a prime number.\n",
            "107 is a prime number.\n",
            "109 is a prime number.\n",
            "113 is a prime number.\n",
            "127 is a prime number.\n",
            "131 is a prime number.\n",
            "137 is a prime number.\n",
            "139 is a prime number.\n",
            "149 is a prime number.\n",
            "151 is a prime number.\n",
            "157 is a prime number.\n",
            "163 is a prime number.\n",
            "167 is a prime number.\n",
            "173 is a prime number.\n",
            "179 is a prime number.\n",
            "181 is a prime number.\n",
            "191 is a prime number.\n",
            "193 is a prime number.\n",
            "197 is a prime number.\n",
            "199 is a prime number.\n"
          ]
        }
      ]
    },
    {
      "cell_type": "markdown",
      "source": [
        "##5. Create an iterator class in Python that generates the Fibonacci sequence up to a specified number of terms."
      ],
      "metadata": {
        "id": "gDpx2z13dRq3"
      }
    },
    {
      "cell_type": "code",
      "source": [
        "class FibonacciIterator:\n",
        "    def __init__(self, n_terms):\n",
        "        \"\"\"\n",
        "        Initialize the iterator with the number of terms to generate.\n",
        "        :param n_terms: The number of terms in the Fibonacci sequence.\n",
        "        \"\"\"\n",
        "        self.n_terms = n_terms\n",
        "        self.current = 0\n",
        "        self.next = 1\n",
        "        self.index = 0\n",
        "\n",
        "    def __iter__(self):\n",
        "        \"\"\"\n",
        "        Return the iterator object.\n",
        "        \"\"\"\n",
        "        return self\n",
        "\n",
        "    def __next__(self):\n",
        "        \"\"\"\n",
        "        Return the next Fibonacci number in the sequence.\n",
        "        \"\"\"\n",
        "        if self.index >= self.n_terms:\n",
        "            raise StopIteration\n",
        "\n",
        "        # Save the current value to return\n",
        "        value = self.current\n",
        "\n",
        "        # Update to the next Fibonacci numbers\n",
        "        self.current, self.next = self.next, self.current + self.next\n",
        "\n",
        "        # Increment the index\n",
        "        self.index += 1\n",
        "\n",
        "        return value\n",
        "\n",
        "# Example usage\n",
        "if __name__ == \"__main__\":\n",
        "    n = 10  # Number of Fibonacci terms\n",
        "    fib_iterator = FibonacciIterator(n)\n",
        "\n",
        "    print(f\"First {n} terms of the Fibonacci sequence:\")\n",
        "    for num in fib_iterator:\n",
        "        print(num, end=\" \")\n"
      ],
      "metadata": {
        "colab": {
          "base_uri": "https://localhost:8080/"
        },
        "id": "u43xtfyBdLee",
        "outputId": "228ea3b9-e320-4822-a584-a2e9226b4f83"
      },
      "execution_count": 10,
      "outputs": [
        {
          "output_type": "stream",
          "name": "stdout",
          "text": [
            "First 10 terms of the Fibonacci sequence:\n",
            "0 1 1 2 3 5 8 13 21 34 "
          ]
        }
      ]
    },
    {
      "cell_type": "markdown",
      "source": [
        "##6. Write a generator function in Python that yields the powers of 2 up to a given exponent."
      ],
      "metadata": {
        "id": "JTv7OWubd5Ei"
      }
    },
    {
      "cell_type": "code",
      "source": [
        "def powers_of_two(max_exponent):\n",
        "    \"\"\"\n",
        "    A generator function that yields powers of 2 up to the given exponent.\n",
        "\n",
        "    :param max_exponent: The maximum exponent to compute 2^n.\n",
        "    \"\"\"\n",
        "    for exponent in range(max_exponent + 1):\n",
        "        yield 2 ** exponent\n",
        "\n",
        "# Example usage\n",
        "if __name__ == \"__main__\":\n",
        "    max_exp = 10  # Maximum exponent for 2^n\n",
        "    print(f\"Powers of 2 up to 2^{max_exp}:\")\n",
        "\n",
        "    for value in powers_of_two(max_exp):\n",
        "        print(value, end=\" \")\n"
      ],
      "metadata": {
        "colab": {
          "base_uri": "https://localhost:8080/"
        },
        "id": "BSrzTiQwd4BO",
        "outputId": "ddc40ce2-afa5-4f6d-8593-3becdab89416"
      },
      "execution_count": 11,
      "outputs": [
        {
          "output_type": "stream",
          "name": "stdout",
          "text": [
            "Powers of 2 up to 2^10:\n",
            "1 2 4 8 16 32 64 128 256 512 1024 "
          ]
        }
      ]
    },
    {
      "cell_type": "markdown",
      "source": [
        "##7. Implement a generator function that reads a file line by line and yields each line as a string."
      ],
      "metadata": {
        "id": "U5AYDSLleORf"
      }
    },
    {
      "cell_type": "code",
      "source": [
        "def read_file_line_by_line(file_path):\n",
        "    \"\"\"\n",
        "    A generator function that reads a file line by line and yields each line as a string.\n",
        "\n",
        "    :param file_path: Path to the file to be read.\n",
        "    \"\"\"\n",
        "    try:\n",
        "        with open(file_path, 'r') as file:\n",
        "            for line in file:\n",
        "                yield line.strip()  # Remove trailing newline characters\n",
        "    except FileNotFoundError:\n",
        "        print(f\"Error: The file at '{file_path}' was not found.\")\n",
        "    except IOError as e:\n",
        "        print(f\"Error: An I/O error occurred: {e}\")\n",
        "\n",
        "# Example usage\n",
        "if __name__ == \"__main__\":\n",
        "    file_path = \"example.txt\"  # Replace with your file path\n",
        "\n",
        "    print(\"Reading file line by line:\")\n",
        "    for line in read_file_line_by_line(file_path):\n",
        "        print(line)\n"
      ],
      "metadata": {
        "colab": {
          "base_uri": "https://localhost:8080/"
        },
        "id": "igY2nY00eM_f",
        "outputId": "4037340c-4749-4a90-9982-0aef345fa23a"
      },
      "execution_count": 12,
      "outputs": [
        {
          "output_type": "stream",
          "name": "stdout",
          "text": [
            "Reading file line by line:\n",
            "Error: The file at 'example.txt' was not found.\n"
          ]
        }
      ]
    },
    {
      "cell_type": "markdown",
      "source": [
        "##8. Use a lambda function in Python to sort a list of tuples based on the second element of each tuple."
      ],
      "metadata": {
        "id": "8kjaqnsHepph"
      }
    },
    {
      "cell_type": "code",
      "source": [
        "# List of tuples\n",
        "data = [(1, 3), (4, 1), (2, 9), (5, 2)]\n",
        "\n",
        "# Sort the list based on the second element of each tuple\n",
        "sorted_data = sorted(data, key=lambda x: x[1])\n",
        "\n",
        "# Print the sorted list\n",
        "print(\"Sorted list based on the second element:\", sorted_data)\n"
      ],
      "metadata": {
        "colab": {
          "base_uri": "https://localhost:8080/"
        },
        "id": "_-1IVg8Zebuu",
        "outputId": "a01d63d1-085a-4ea2-944a-b3c697b86dac"
      },
      "execution_count": 13,
      "outputs": [
        {
          "output_type": "stream",
          "name": "stdout",
          "text": [
            "Sorted list based on the second element: [(4, 1), (5, 2), (1, 3), (2, 9)]\n"
          ]
        }
      ]
    },
    {
      "cell_type": "markdown",
      "source": [
        "##9. Write a Python program that uses `map()` to convert a list of temperatures from Celsius to Fahrenheit"
      ],
      "metadata": {
        "id": "pHU0E92ce3Km"
      }
    },
    {
      "cell_type": "code",
      "source": [
        "# Function to convert Celsius to Fahrenheit\n",
        "def celsius_to_fahrenheit(celsius):\n",
        "    return (celsius * 9/5) + 32\n",
        "\n",
        "# List of temperatures in Celsius\n",
        "celsius_temperatures = [0, 10, 20, 30, 40]\n",
        "\n",
        "# Use map() to convert each Celsius temperature to Fahrenheit\n",
        "fahrenheit_temperatures = list(map(celsius_to_fahrenheit, celsius_temperatures))\n",
        "\n",
        "# Print the converted temperatures\n",
        "print(\"Celsius temperatures:\", celsius_temperatures)\n",
        "print(\"Fahrenheit temperatures:\", fahrenheit_temperatures)\n"
      ],
      "metadata": {
        "colab": {
          "base_uri": "https://localhost:8080/"
        },
        "id": "MF5zVkobe0Rs",
        "outputId": "e7d8ffa7-3d43-4682-ebca-e3259874d632"
      },
      "execution_count": 14,
      "outputs": [
        {
          "output_type": "stream",
          "name": "stdout",
          "text": [
            "Celsius temperatures: [0, 10, 20, 30, 40]\n",
            "Fahrenheit temperatures: [32.0, 50.0, 68.0, 86.0, 104.0]\n"
          ]
        }
      ]
    },
    {
      "cell_type": "markdown",
      "source": [
        "##10. Create a Python program that uses `filter()` to remove all the vowels from a given string."
      ],
      "metadata": {
        "id": "Isy2Vn2AfL3J"
      }
    },
    {
      "cell_type": "code",
      "source": [
        "# Function to check if a character is not a vowel\n",
        "def is_not_vowel(char):\n",
        "    vowels = 'aeiouAEIOU'\n",
        "    return char not in vowels\n",
        "\n",
        "# Given string\n",
        "input_string = \"Hello, this is a test string.\"\n",
        "\n",
        "# Use filter() to remove vowels from the string\n",
        "filtered_string = ''.join(filter(is_not_vowel, input_string))\n",
        "\n",
        "# Print the result\n",
        "print(\"Original string:\", input_string)\n",
        "print(\"String without vowels:\", filtered_string)\n"
      ],
      "metadata": {
        "colab": {
          "base_uri": "https://localhost:8080/"
        },
        "id": "ARhsMhemfKcd",
        "outputId": "96b3d710-05bb-4bbf-b560-ad7313a3bc0a"
      },
      "execution_count": 15,
      "outputs": [
        {
          "output_type": "stream",
          "name": "stdout",
          "text": [
            "Original string: Hello, this is a test string.\n",
            "String without vowels: Hll, ths s  tst strng.\n"
          ]
        }
      ]
    },
    {
      "cell_type": "markdown",
      "source": [
        "11) Imagine an accounting routine used in a book shop. It works on a list with sublists, which look like this:\n",
        "\n",
        "\n",
        "\n",
        "\n",
        "\n",
        "\n",
        "\n",
        "Write a Python program, which returns a list with 2-tuples. Each tuple consists of the order number and the\n",
        "product of the price per item and the quantity. The product should be increased by 10,- € if the value of the\n",
        "order is smaller than 100,00 €.\n",
        "\n",
        "Write a Python program using lambda and map."
      ],
      "metadata": {
        "id": "T4HPQySsfd9-"
      }
    },
    {
      "cell_type": "code",
      "source": [],
      "metadata": {
        "id": "mx9o4rBIfWyN"
      },
      "execution_count": null,
      "outputs": []
    }
  ]
}